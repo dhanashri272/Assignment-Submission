{
 "cells": [
  {
   "cell_type": "code",
   "execution_count": 1,
   "metadata": {},
   "outputs": [
    {
     "name": "stdout",
     "output_type": "stream",
     "text": [
      "Substraction of Two Numbers= (3+5j)\n"
     ]
    }
   ],
   "source": [
    "# substract Two Complex Numbers\n",
    "\n",
    "a=2+3j\n",
    "b=5+8j\n",
    "c=b-a\n",
    "print(\"Substraction of Two Numbers=\",c)"
   ]
  },
  {
   "cell_type": "code",
   "execution_count": 3,
   "metadata": {},
   "outputs": [
    {
     "name": "stdout",
     "output_type": "stream",
     "text": [
      "fourth root= 16\n"
     ]
    }
   ],
   "source": [
    "#Fourth Root Of Number\n",
    "b=2**4\n",
    "print(\"fourth root=\",b)"
   ]
  },
  {
   "cell_type": "code",
   "execution_count": 4,
   "metadata": {},
   "outputs": [
    {
     "name": "stdout",
     "output_type": "stream",
     "text": [
      "enter first number=12\n",
      "enter second number=15\n",
      "value of num1 before swapping= 12\n",
      "value of num2 before swapping= 15\n",
      "value of num1 after swapping= 15\n",
      "value of num2 after swapping= 12\n"
     ]
    }
   ],
   "source": [
    "#Swap Two Numbers with the help of Temporary Variables\n",
    "num1=input('enter first number=')\n",
    "num2=input('enter second number=') \n",
    "print(\"value of num1 before swapping=\",num1)\n",
    "print(\"value of num2 before swapping=\",num2)\n",
    "# swapping two numbers using temporary variables\n",
    "temp=num1\n",
    "num1=num2\n",
    "num2=temp\n",
    "print(\"value of num1 after swapping=\",num1)\n",
    "print(\"value of num2 after swapping=\",num2)"
   ]
  },
  {
   "cell_type": "code",
   "execution_count": 5,
   "metadata": {},
   "outputs": [
    {
     "name": "stdout",
     "output_type": "stream",
     "text": [
      "enter first number=17\n",
      "enter second number=25\n",
      "value of num1 before swapping= 17\n",
      "value of num2 before swapping= 25\n",
      "value of num1 after swapping= 25\n",
      "value of num2 after swapping= 17\n"
     ]
    }
   ],
   "source": [
    "#Swap Two Numbers without using Temporary Variables\n",
    "num1=input('enter first number=')\n",
    "num2=input('enter second number=') \n",
    "print(\"value of num1 before swapping=\",num1)\n",
    "print(\"value of num2 before swapping=\",num2)\n",
    "#Swaping Two Numbers without using Temporary Variables\n",
    "num1,num2=num2,num1\n",
    "print(\"value of num1 after swapping=\",num1)\n",
    "print(\"value of num2 after swapping=\",num2)"
   ]
  },
  {
   "cell_type": "code",
   "execution_count": 6,
   "metadata": {},
   "outputs": [
    {
     "name": "stdout",
     "output_type": "stream",
     "text": [
      "enter temp in F=15\n",
      "Fahrenite to Celsius= -9.444444444444445\n",
      "Fahrenite to Kelvin= 263.55555555555554\n"
     ]
    }
   ],
   "source": [
    "# Fahrenite to kelvin & Celsius\n",
    "F=float(input(\"enter temp in F=\"))\n",
    "Celsius=(F-32)*5/9\n",
    "Kelvin=((F-32)*5/9)+273\n",
    "print(\"Fahrenite to Celsius=\",Celsius)\n",
    "print(\"Fahrenite to Kelvin=\",Kelvin)"
   ]
  },
  {
   "cell_type": "code",
   "execution_count": 7,
   "metadata": {},
   "outputs": [
    {
     "data": {
      "text/plain": [
       "complex"
      ]
     },
     "execution_count": 7,
     "metadata": {},
     "output_type": "execute_result"
    }
   ],
   "source": [
    "# Demostrate all Data type\n",
    "type(2+3j)"
   ]
  },
  {
   "cell_type": "code",
   "execution_count": 8,
   "metadata": {},
   "outputs": [
    {
     "data": {
      "text/plain": [
       "int"
      ]
     },
     "execution_count": 8,
     "metadata": {},
     "output_type": "execute_result"
    }
   ],
   "source": [
    "type(12)"
   ]
  },
  {
   "cell_type": "code",
   "execution_count": 9,
   "metadata": {},
   "outputs": [
    {
     "data": {
      "text/plain": [
       "str"
      ]
     },
     "execution_count": 9,
     "metadata": {},
     "output_type": "execute_result"
    }
   ],
   "source": [
    "type(\"dhanashri\")"
   ]
  },
  {
   "cell_type": "code",
   "execution_count": 10,
   "metadata": {},
   "outputs": [
    {
     "data": {
      "text/plain": [
       "float"
      ]
     },
     "execution_count": 10,
     "metadata": {},
     "output_type": "execute_result"
    }
   ],
   "source": [
    "type(9.782)"
   ]
  },
  {
   "cell_type": "code",
   "execution_count": 11,
   "metadata": {},
   "outputs": [
    {
     "data": {
      "text/plain": [
       "12"
      ]
     },
     "execution_count": 11,
     "metadata": {},
     "output_type": "execute_result"
    }
   ],
   "source": [
    "int(12.34)"
   ]
  },
  {
   "cell_type": "code",
   "execution_count": null,
   "metadata": {},
   "outputs": [],
   "source": []
  }
 ],
 "metadata": {
  "kernelspec": {
   "display_name": "Python 3",
   "language": "python",
   "name": "python3"
  },
  "language_info": {
   "codemirror_mode": {
    "name": "ipython",
    "version": 3
   },
   "file_extension": ".py",
   "mimetype": "text/x-python",
   "name": "python",
   "nbconvert_exporter": "python",
   "pygments_lexer": "ipython3",
   "version": "3.8.3"
  }
 },
 "nbformat": 4,
 "nbformat_minor": 4
}
